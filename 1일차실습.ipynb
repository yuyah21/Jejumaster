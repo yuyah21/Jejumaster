{
  "nbformat": 4,
  "nbformat_minor": 0,
  "metadata": {
    "colab": {
      "provenance": [],
      "toc_visible": true,
      "authorship_tag": "ABX9TyMDFNdaBVkF98IIp5CggV7D",
      "include_colab_link": true
    },
    "kernelspec": {
      "name": "python3",
      "display_name": "Python 3"
    },
    "language_info": {
      "name": "python"
    }
  },
  "cells": [
    {
      "cell_type": "markdown",
      "metadata": {
        "id": "view-in-github",
        "colab_type": "text"
      },
      "source": [
        "<a href=\"https://colab.research.google.com/github/yuyah21/Jejumaster/blob/main/1%EC%9D%BC%EC%B0%A8%EC%8B%A4%EC%8A%B5.ipynb\" target=\"_parent\"><img src=\"https://colab.research.google.com/assets/colab-badge.svg\" alt=\"Open In Colab\"/></a>"
      ]
    },
    {
      "cell_type": "markdown",
      "source": [
        "# 1일차-파이썬 실습\n",
        "## 코랩에서 파이썬 사용하기\n",
        "\n",
        "\n",
        "---\n",
        "설명도 입력할 수 있다.\n"
      ],
      "metadata": {
        "id": "feL9JBWVKePr"
      }
    },
    {
      "cell_type": "code",
      "execution_count": null,
      "metadata": {
        "id": "c9n5k9zTz3Ae"
      },
      "outputs": [],
      "source": [
        "import sys\n",
        "print(f'파이썬 버전: {sys.version}')\n",
        "print('-' * 90)\n",
        "print('파이썬 실행파일 경로: %s' % sys.path)"
      ]
    },
    {
      "cell_type": "code",
      "source": [
        "pip list"
      ],
      "metadata": {
        "id": "hFsdMiAD3ZTV"
      },
      "execution_count": null,
      "outputs": []
    }
  ]
}